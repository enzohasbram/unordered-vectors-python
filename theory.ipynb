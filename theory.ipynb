{
 "cells": [
  {
   "cell_type": "markdown",
   "metadata": {},
   "source": [
    "VETORES NÃO ORDENADOS"
   ]
  },
  {
   "cell_type": "markdown",
   "metadata": {},
   "source": [
    "Ex: \n",
    "- Controlar quais jogadores estão presentes no campo de treino\n",
    "- Várias ações poderiam ser executadas\n",
    "    - Inserir um jogador na estrutura de dados quando ele chegar no campo\n",
    "    - Verificar se um determinado jogador está presente, pesquisando o número de jogador na estrutura\n",
    "    - Remover um jogador da estrutura de dados quando ele for para casa"
   ]
  },
  {
   "cell_type": "markdown",
   "metadata": {},
   "source": [
    "INSERÇÃO\n",
    "\n",
    "- Inserção de um novo jogado dentro do vetor\n",
    "4, 2, 1, 8, 5 ...\n",
    "- Único passo (inserindo na primeira célula vaga do vetor)\n",
    "- O algoritmo já conhece essa localização porque ele já sabe quantos itens já estão no vetor\n",
    "- O novo item é simplesmente inserido no próximo espaço disponível\n",
    "- Big-O constante - O(1)"
   ]
  },
  {
   "cell_type": "markdown",
   "metadata": {},
   "source": [
    "PESQUISA LINEAR \n",
    "- Percorrer cada posição do vetor. Item por item\n",
    "- Melhor caso: posição 0\n",
    "- Pior caso: o último ou número que não existe\n",
    "- Em média, metade dos itens devem ser examinados (N/2)\n",
    "- Big-O linear - O(n)"
   ]
  },
  {
   "cell_type": "markdown",
   "metadata": {},
   "source": [
    "EXCLUSÃO\n",
    "- Pesquisar uma média de N/2 elementos (pesquisa linear)\n",
    "- Mover os elementos restantes (N/2 passos)\n",
    "- Big-O - O(2n) = O(n)"
   ]
  },
  {
   "cell_type": "markdown",
   "metadata": {},
   "source": [
    "DUPLICATAS\n",
    "- Deve-se decidir se itens com chaves duplicadas serão permitidos\n",
    "Ex:\n",
    "    - Se a chave for o número de registro\n",
    "    - Se a chave for o sobrenome\n",
    "- Pesquisa: mesmo se encontrar o valor, o algoritmo terá que continuar procurando até a última célula (N passos)\n",
    "- Inserção: verificar cada item antes de fazer uma inserção (N passos)\n",
    "- Exclusão do primeiro item: N/2 comparações e N/2 movimentos\n",
    "- Exclusão de mais itens: verificar N células e mais de N/2 células"
   ]
  }
 ],
 "metadata": {
  "language_info": {
   "name": "python"
  }
 },
 "nbformat": 4,
 "nbformat_minor": 2
}
